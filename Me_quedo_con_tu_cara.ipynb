{
 "cells": [
  {
   "cell_type": "code",
   "execution_count": 1,
   "id": "5c5fa704",
   "metadata": {
    "id": "5c5fa704"
   },
   "outputs": [],
   "source": [
    "from IPython.core.interactiveshell import InteractiveShell\n",
    "InteractiveShell.ast_node_interactivity = \"all\""
   ]
  },
  {
   "cell_type": "code",
   "execution_count": 2,
   "id": "9d7f7a08",
   "metadata": {
    "id": "9d7f7a08"
   },
   "outputs": [
    {
     "name": "stdout",
     "output_type": "stream",
     "text": [
      "WARNING:tensorflow:From C:\\Users\\haroo\\anaconda3\\Lib\\site-packages\\keras\\src\\losses.py:2976: The name tf.losses.sparse_softmax_cross_entropy is deprecated. Please use tf.compat.v1.losses.sparse_softmax_cross_entropy instead.\n",
      "\n"
     ]
    }
   ],
   "source": [
    "import numpy as np\n",
    "import matplotlib.pyplot as plt\n",
    "import tensorflow as tf\n",
    "from tensorflow import keras\n",
    "from sklearn.decomposition import PCA\n",
    "from sklearn.datasets import fetch_olivetti_faces\n",
    "from sklearn.model_selection import train_test_split\n",
    "from sklearn.preprocessing import OneHotEncoder"
   ]
  },
  {
   "cell_type": "markdown",
   "id": "9fdb956c",
   "metadata": {
    "id": "9fdb956c"
   },
   "source": [
    "APARTADO A"
   ]
  },
  {
   "cell_type": "code",
   "execution_count": 3,
   "id": "5bd45db3",
   "metadata": {
    "colab": {
     "base_uri": "https://localhost:8080/"
    },
    "id": "5bd45db3",
    "outputId": "a2fa0eda-5839-48c1-87e6-70830bae1005"
   },
   "outputs": [],
   "source": [
    "X, y = fetch_olivetti_faces(return_X_y=True);"
   ]
  },
  {
   "cell_type": "code",
   "execution_count": 4,
   "id": "97e5e5c3",
   "metadata": {
    "id": "97e5e5c3"
   },
   "outputs": [],
   "source": [
    "X_train, X_test, y_train, y_test = train_test_split(X, y, train_size=0.7, random_state=1)"
   ]
  },
  {
   "cell_type": "code",
   "execution_count": 5,
   "id": "4fb3fdee",
   "metadata": {
    "id": "4fb3fdee"
   },
   "outputs": [],
   "source": [
    "X_train = X_train / np.max(X)\n",
    "X_test = X_test / np.max(X)"
   ]
  },
  {
   "cell_type": "code",
   "execution_count": 6,
   "id": "68043094",
   "metadata": {
    "id": "68043094"
   },
   "outputs": [],
   "source": [
    "encoder = OneHotEncoder(sparse_output=False)\n",
    "y_train = encoder.fit_transform(y_train.reshape(-1, 1))\n",
    "y_test = encoder.fit_transform(y_test.reshape(-1, 1))"
   ]
  },
  {
   "cell_type": "markdown",
   "id": "78c34161",
   "metadata": {
    "id": "78c34161"
   },
   "source": [
    "APARTADO B"
   ]
  },
  {
   "cell_type": "code",
   "execution_count": 7,
   "id": "25b8104e",
   "metadata": {
    "id": "25b8104e"
   },
   "outputs": [],
   "source": [
    "def train_models(train, test, size, neuronas, b):\n",
    "\n",
    "    pred_res = []\n",
    "\n",
    "    for i in neuronas:\n",
    "        # Crear modelo, si b es true hacemos el apartado b sino hacemos el apartado c\n",
    "        if b:\n",
    "            model = keras.Sequential(name=  str(size) +'_componentes_'+ str(i)+'_neuronas')\n",
    "            model.add(keras.Input(shape=size))\n",
    "            model.add(keras.layers.Dense(i, activation=\"relu\", name='Dense_1'))\n",
    "            model.add(keras.layers.Dense(40, activation=\"softmax\", name='Dense_2'))\n",
    "        else:\n",
    "            model = keras.Sequential(name='Capas_convolucionales')\n",
    "            model.add(keras.Input(shape=(64,64,1,)))\n",
    "            model.add(keras.layers.Conv2D(filters=i, kernel_size=3, strides=1, activation=\"relu\", name='Conv2D'))\n",
    "            model.add(keras.layers.Flatten(name='Flatten'))\n",
    "            model.add(keras.layers.Dense(40, activation=\"softmax\", name='dense_1'))\n",
    "\n",
    "        # Compilamos\n",
    "        model.compile(optimizer=keras.optimizers.SGD(), loss=tf.keras.losses.CategoricalCrossentropy())\n",
    "        model.fit(train,y_train,batch_size=16, epochs=200,verbose=False)\n",
    "\n",
    "        # Guardamos la predicción\n",
    "        pred = []\n",
    "        pred = model.predict(test)\n",
    "\n",
    "        pred_res.append(pred.argmax(axis=1))\n",
    "\n",
    "    return pred_res, model"
   ]
  },
  {
   "cell_type": "code",
   "execution_count": 8,
   "id": "d9f6a229",
   "metadata": {
    "id": "d9f6a229"
   },
   "outputs": [],
   "source": [
    "def compute_accuracies(predictions, true_labels):\n",
    "    accuracies = []\n",
    "    for i in range(len(predictions)):\n",
    "        correct_elem = np.sum(true_labels == predictions[i])\n",
    "        accuracies.append((i, correct_elem / len(predictions[i])))\n",
    "\n",
    "    return accuracies"
   ]
  },
  {
   "cell_type": "markdown",
   "id": "78739028",
   "metadata": {
    "id": "78739028"
   },
   "source": [
    "He creado estas 2 funciones que nos ayudaran a lo largo de los apartados, la primera es una funcion que entrena modelos y devuelve su capacidad de predecir y el modelo final, la segunda coge la capacidad de predecir y la etiqueta original y comprueba cual es la tasa de acierto del modelo."
   ]
  },
  {
   "cell_type": "code",
   "execution_count": 9,
   "id": "c9acfeeb",
   "metadata": {
    "colab": {
     "base_uri": "https://localhost:8080/",
     "height": 144
    },
    "id": "c9acfeeb",
    "outputId": "6a7f66c7-3a01-45c2-9093-c51d318f52ea"
   },
   "outputs": [
    {
     "data": {
      "text/html": [
       "<style>#sk-container-id-1 {color: black;}#sk-container-id-1 pre{padding: 0;}#sk-container-id-1 div.sk-toggleable {background-color: white;}#sk-container-id-1 label.sk-toggleable__label {cursor: pointer;display: block;width: 100%;margin-bottom: 0;padding: 0.3em;box-sizing: border-box;text-align: center;}#sk-container-id-1 label.sk-toggleable__label-arrow:before {content: \"▸\";float: left;margin-right: 0.25em;color: #696969;}#sk-container-id-1 label.sk-toggleable__label-arrow:hover:before {color: black;}#sk-container-id-1 div.sk-estimator:hover label.sk-toggleable__label-arrow:before {color: black;}#sk-container-id-1 div.sk-toggleable__content {max-height: 0;max-width: 0;overflow: hidden;text-align: left;background-color: #f0f8ff;}#sk-container-id-1 div.sk-toggleable__content pre {margin: 0.2em;color: black;border-radius: 0.25em;background-color: #f0f8ff;}#sk-container-id-1 input.sk-toggleable__control:checked~div.sk-toggleable__content {max-height: 200px;max-width: 100%;overflow: auto;}#sk-container-id-1 input.sk-toggleable__control:checked~label.sk-toggleable__label-arrow:before {content: \"▾\";}#sk-container-id-1 div.sk-estimator input.sk-toggleable__control:checked~label.sk-toggleable__label {background-color: #d4ebff;}#sk-container-id-1 div.sk-label input.sk-toggleable__control:checked~label.sk-toggleable__label {background-color: #d4ebff;}#sk-container-id-1 input.sk-hidden--visually {border: 0;clip: rect(1px 1px 1px 1px);clip: rect(1px, 1px, 1px, 1px);height: 1px;margin: -1px;overflow: hidden;padding: 0;position: absolute;width: 1px;}#sk-container-id-1 div.sk-estimator {font-family: monospace;background-color: #f0f8ff;border: 1px dotted black;border-radius: 0.25em;box-sizing: border-box;margin-bottom: 0.5em;}#sk-container-id-1 div.sk-estimator:hover {background-color: #d4ebff;}#sk-container-id-1 div.sk-parallel-item::after {content: \"\";width: 100%;border-bottom: 1px solid gray;flex-grow: 1;}#sk-container-id-1 div.sk-label:hover label.sk-toggleable__label {background-color: #d4ebff;}#sk-container-id-1 div.sk-serial::before {content: \"\";position: absolute;border-left: 1px solid gray;box-sizing: border-box;top: 0;bottom: 0;left: 50%;z-index: 0;}#sk-container-id-1 div.sk-serial {display: flex;flex-direction: column;align-items: center;background-color: white;padding-right: 0.2em;padding-left: 0.2em;position: relative;}#sk-container-id-1 div.sk-item {position: relative;z-index: 1;}#sk-container-id-1 div.sk-parallel {display: flex;align-items: stretch;justify-content: center;background-color: white;position: relative;}#sk-container-id-1 div.sk-item::before, #sk-container-id-1 div.sk-parallel-item::before {content: \"\";position: absolute;border-left: 1px solid gray;box-sizing: border-box;top: 0;bottom: 0;left: 50%;z-index: -1;}#sk-container-id-1 div.sk-parallel-item {display: flex;flex-direction: column;z-index: 1;position: relative;background-color: white;}#sk-container-id-1 div.sk-parallel-item:first-child::after {align-self: flex-end;width: 50%;}#sk-container-id-1 div.sk-parallel-item:last-child::after {align-self: flex-start;width: 50%;}#sk-container-id-1 div.sk-parallel-item:only-child::after {width: 0;}#sk-container-id-1 div.sk-dashed-wrapped {border: 1px dashed gray;margin: 0 0.4em 0.5em 0.4em;box-sizing: border-box;padding-bottom: 0.4em;background-color: white;}#sk-container-id-1 div.sk-label label {font-family: monospace;font-weight: bold;display: inline-block;line-height: 1.2em;}#sk-container-id-1 div.sk-label-container {text-align: center;}#sk-container-id-1 div.sk-container {/* jupyter's `normalize.less` sets `[hidden] { display: none; }` but bootstrap.min.css set `[hidden] { display: none !important; }` so we also need the `!important` here to be able to override the default hidden behavior on the sphinx rendered scikit-learn.org. See: https://github.com/scikit-learn/scikit-learn/issues/21755 */display: inline-block !important;position: relative;}#sk-container-id-1 div.sk-text-repr-fallback {display: none;}</style><div id=\"sk-container-id-1\" class=\"sk-top-container\"><div class=\"sk-text-repr-fallback\"><pre>PCA(n_components=10)</pre><b>In a Jupyter environment, please rerun this cell to show the HTML representation or trust the notebook. <br />On GitHub, the HTML representation is unable to render, please try loading this page with nbviewer.org.</b></div><div class=\"sk-container\" hidden><div class=\"sk-item\"><div class=\"sk-estimator sk-toggleable\"><input class=\"sk-toggleable__control sk-hidden--visually\" id=\"sk-estimator-id-1\" type=\"checkbox\" checked><label for=\"sk-estimator-id-1\" class=\"sk-toggleable__label sk-toggleable__label-arrow\">PCA</label><div class=\"sk-toggleable__content\"><pre>PCA(n_components=10)</pre></div></div></div></div></div>"
      ],
      "text/plain": [
       "PCA(n_components=10)"
      ]
     },
     "execution_count": 9,
     "metadata": {},
     "output_type": "execute_result"
    },
    {
     "name": "stdout",
     "output_type": "stream",
     "text": [
      "WARNING:tensorflow:From C:\\Users\\haroo\\anaconda3\\Lib\\site-packages\\keras\\src\\backend.py:1398: The name tf.executing_eagerly_outside_functions is deprecated. Please use tf.compat.v1.executing_eagerly_outside_functions instead.\n",
      "\n",
      "WARNING:tensorflow:From C:\\Users\\haroo\\anaconda3\\Lib\\site-packages\\keras\\src\\utils\\tf_utils.py:492: The name tf.ragged.RaggedTensorValue is deprecated. Please use tf.compat.v1.ragged.RaggedTensorValue instead.\n",
      "\n",
      "4/4 [==============================] - 0s 2ms/step\n",
      "4/4 [==============================] - 0s 2ms/step\n",
      "4/4 [==============================] - 0s 2ms/step\n",
      "4/4 [==============================] - 0s 2ms/step\n"
     ]
    }
   ],
   "source": [
    "neuronas = [25, 50, 75, 100]\n",
    "\n",
    "pca_10 = PCA(n_components=10)\n",
    "pca_10.fit(X_train);\n",
    "\n",
    "X_train_10 = pca_10.transform(X_train)\n",
    "X_test_10 = pca_10.transform(X_test)\n",
    "\n",
    "pred_res_10, model_10_100 = train_models(X_train_10, X_test_10, 10, neuronas, 1)"
   ]
  },
  {
   "cell_type": "code",
   "execution_count": 10,
   "id": "6219e32f",
   "metadata": {
    "colab": {
     "base_uri": "https://localhost:8080/",
     "height": 144
    },
    "id": "6219e32f",
    "outputId": "1a89a91e-cfb4-44e4-d0dc-3fe6f712961d",
    "scrolled": true
   },
   "outputs": [
    {
     "data": {
      "text/html": [
       "<style>#sk-container-id-2 {color: black;}#sk-container-id-2 pre{padding: 0;}#sk-container-id-2 div.sk-toggleable {background-color: white;}#sk-container-id-2 label.sk-toggleable__label {cursor: pointer;display: block;width: 100%;margin-bottom: 0;padding: 0.3em;box-sizing: border-box;text-align: center;}#sk-container-id-2 label.sk-toggleable__label-arrow:before {content: \"▸\";float: left;margin-right: 0.25em;color: #696969;}#sk-container-id-2 label.sk-toggleable__label-arrow:hover:before {color: black;}#sk-container-id-2 div.sk-estimator:hover label.sk-toggleable__label-arrow:before {color: black;}#sk-container-id-2 div.sk-toggleable__content {max-height: 0;max-width: 0;overflow: hidden;text-align: left;background-color: #f0f8ff;}#sk-container-id-2 div.sk-toggleable__content pre {margin: 0.2em;color: black;border-radius: 0.25em;background-color: #f0f8ff;}#sk-container-id-2 input.sk-toggleable__control:checked~div.sk-toggleable__content {max-height: 200px;max-width: 100%;overflow: auto;}#sk-container-id-2 input.sk-toggleable__control:checked~label.sk-toggleable__label-arrow:before {content: \"▾\";}#sk-container-id-2 div.sk-estimator input.sk-toggleable__control:checked~label.sk-toggleable__label {background-color: #d4ebff;}#sk-container-id-2 div.sk-label input.sk-toggleable__control:checked~label.sk-toggleable__label {background-color: #d4ebff;}#sk-container-id-2 input.sk-hidden--visually {border: 0;clip: rect(1px 1px 1px 1px);clip: rect(1px, 1px, 1px, 1px);height: 1px;margin: -1px;overflow: hidden;padding: 0;position: absolute;width: 1px;}#sk-container-id-2 div.sk-estimator {font-family: monospace;background-color: #f0f8ff;border: 1px dotted black;border-radius: 0.25em;box-sizing: border-box;margin-bottom: 0.5em;}#sk-container-id-2 div.sk-estimator:hover {background-color: #d4ebff;}#sk-container-id-2 div.sk-parallel-item::after {content: \"\";width: 100%;border-bottom: 1px solid gray;flex-grow: 1;}#sk-container-id-2 div.sk-label:hover label.sk-toggleable__label {background-color: #d4ebff;}#sk-container-id-2 div.sk-serial::before {content: \"\";position: absolute;border-left: 1px solid gray;box-sizing: border-box;top: 0;bottom: 0;left: 50%;z-index: 0;}#sk-container-id-2 div.sk-serial {display: flex;flex-direction: column;align-items: center;background-color: white;padding-right: 0.2em;padding-left: 0.2em;position: relative;}#sk-container-id-2 div.sk-item {position: relative;z-index: 1;}#sk-container-id-2 div.sk-parallel {display: flex;align-items: stretch;justify-content: center;background-color: white;position: relative;}#sk-container-id-2 div.sk-item::before, #sk-container-id-2 div.sk-parallel-item::before {content: \"\";position: absolute;border-left: 1px solid gray;box-sizing: border-box;top: 0;bottom: 0;left: 50%;z-index: -1;}#sk-container-id-2 div.sk-parallel-item {display: flex;flex-direction: column;z-index: 1;position: relative;background-color: white;}#sk-container-id-2 div.sk-parallel-item:first-child::after {align-self: flex-end;width: 50%;}#sk-container-id-2 div.sk-parallel-item:last-child::after {align-self: flex-start;width: 50%;}#sk-container-id-2 div.sk-parallel-item:only-child::after {width: 0;}#sk-container-id-2 div.sk-dashed-wrapped {border: 1px dashed gray;margin: 0 0.4em 0.5em 0.4em;box-sizing: border-box;padding-bottom: 0.4em;background-color: white;}#sk-container-id-2 div.sk-label label {font-family: monospace;font-weight: bold;display: inline-block;line-height: 1.2em;}#sk-container-id-2 div.sk-label-container {text-align: center;}#sk-container-id-2 div.sk-container {/* jupyter's `normalize.less` sets `[hidden] { display: none; }` but bootstrap.min.css set `[hidden] { display: none !important; }` so we also need the `!important` here to be able to override the default hidden behavior on the sphinx rendered scikit-learn.org. See: https://github.com/scikit-learn/scikit-learn/issues/21755 */display: inline-block !important;position: relative;}#sk-container-id-2 div.sk-text-repr-fallback {display: none;}</style><div id=\"sk-container-id-2\" class=\"sk-top-container\"><div class=\"sk-text-repr-fallback\"><pre>PCA(n_components=20)</pre><b>In a Jupyter environment, please rerun this cell to show the HTML representation or trust the notebook. <br />On GitHub, the HTML representation is unable to render, please try loading this page with nbviewer.org.</b></div><div class=\"sk-container\" hidden><div class=\"sk-item\"><div class=\"sk-estimator sk-toggleable\"><input class=\"sk-toggleable__control sk-hidden--visually\" id=\"sk-estimator-id-2\" type=\"checkbox\" checked><label for=\"sk-estimator-id-2\" class=\"sk-toggleable__label sk-toggleable__label-arrow\">PCA</label><div class=\"sk-toggleable__content\"><pre>PCA(n_components=20)</pre></div></div></div></div></div>"
      ],
      "text/plain": [
       "PCA(n_components=20)"
      ]
     },
     "execution_count": 10,
     "metadata": {},
     "output_type": "execute_result"
    },
    {
     "name": "stdout",
     "output_type": "stream",
     "text": [
      "4/4 [==============================] - 0s 2ms/step\n",
      "4/4 [==============================] - 0s 2ms/step\n",
      "4/4 [==============================] - 0s 2ms/step\n",
      "4/4 [==============================] - 0s 2ms/step\n"
     ]
    }
   ],
   "source": [
    "pca_20 = PCA(n_components=20)\n",
    "pca_20.fit(X_train);\n",
    "\n",
    "X_train_20 = pca_20.transform(X_train)\n",
    "X_test_20 = pca_20.transform(X_test)\n",
    "\n",
    "pred_res_20, model_20_100 = train_models(X_train_20, X_test_20, 20, neuronas, 1)"
   ]
  },
  {
   "cell_type": "code",
   "execution_count": 11,
   "id": "692aaab2",
   "metadata": {
    "colab": {
     "base_uri": "https://localhost:8080/"
    },
    "id": "692aaab2",
    "outputId": "1e958dcb-4b47-479f-f83a-64c79fbc9b89",
    "scrolled": true
   },
   "outputs": [
    {
     "name": "stdout",
     "output_type": "stream",
     "text": [
      "Neuronas 25 50 75 100 con PCA de 10 componentes:\n",
      "0.65\n",
      "0.675\n",
      "0.6916666666666667\n",
      "0.725\n",
      "\n",
      "Neuronas 25 50 75 100 con PCA de 20 componentes:\n",
      "0.725\n",
      "0.775\n",
      "0.7916666666666666\n",
      "0.8\n"
     ]
    }
   ],
   "source": [
    "pred_res = pred_res_10 + pred_res_20\n",
    "accuracy = compute_accuracies(pred_res, y_test.argmax(axis=1) + 1)\n",
    "\n",
    "print('Neuronas 25 50 75 100 con PCA de 10 componentes:')\n",
    "for x in accuracy:\n",
    "    if x[0] == 4:\n",
    "        print('\\nNeuronas 25 50 75 100 con PCA de 20 componentes:')\n",
    "    print(x[1])"
   ]
  },
  {
   "cell_type": "markdown",
   "id": "64fb7ded",
   "metadata": {
    "id": "64fb7ded"
   },
   "source": [
    "El uso de un modelo PCA de 20 componentes es mejor que el modelo con 10 componentes, ahora bien, tras realizar pruebas varias veces el resultado de usar entre 75 a 100 neuronas va variando probablemente en función a momento de uso de la GPU, pero el resultado va variando alrededor del 0.8 por lo tanto sera el que utilizemos para guiarnos en la practica.\n",
    "\n",
    "Como he comentado antes, el maximo potencial se adquiere entre las 75 a 100 neuronas, por lo tanto no se puede llegar a la conclusión que mas neuronas influya a una mejor tasa de acierto. Cosas como la complejidad del problema, tamaño del conjunto de datos y otros factores pueden ser determinantes a la hora de elegir el numero de neuronas."
   ]
  },
  {
   "cell_type": "markdown",
   "id": "7801099e",
   "metadata": {
    "id": "7801099e"
   },
   "source": [
    "APARTADO C"
   ]
  },
  {
   "cell_type": "code",
   "execution_count": 12,
   "id": "39c401de",
   "metadata": {
    "id": "39c401de"
   },
   "outputs": [],
   "source": [
    "X_train = X_train.reshape(-1,64,64,1);\n",
    "X_test = X_test.reshape(-1,64,64,1);"
   ]
  },
  {
   "cell_type": "code",
   "execution_count": 13,
   "id": "8af39663",
   "metadata": {
    "colab": {
     "base_uri": "https://localhost:8080/"
    },
    "id": "8af39663",
    "outputId": "7cfc465e-71bf-4dba-9197-55b16a7bc677"
   },
   "outputs": [
    {
     "name": "stdout",
     "output_type": "stream",
     "text": [
      "4/4 [==============================] - 0s 2ms/step\n",
      "4/4 [==============================] - 0s 3ms/step\n",
      "4/4 [==============================] - 0s 2ms/step\n",
      "4/4 [==============================] - 0s 3ms/step\n",
      "4/4 [==============================] - 0s 3ms/step\n",
      "4/4 [==============================] - 0s 3ms/step\n",
      "4/4 [==============================] - 0s 3ms/step\n",
      "4/4 [==============================] - 0s 4ms/step\n",
      "4/4 [==============================] - 0s 4ms/step\n",
      "4/4 [==============================] - 0s 4ms/step\n"
     ]
    }
   ],
   "source": [
    "neuronas = np.arange(1,11)\n",
    "pred_res_cnn, model_cnn = train_models(X_train, X_test, 0, neuronas, 0)"
   ]
  },
  {
   "cell_type": "code",
   "execution_count": 14,
   "id": "18cdae92",
   "metadata": {
    "colab": {
     "base_uri": "https://localhost:8080/"
    },
    "id": "18cdae92",
    "outputId": "387f7361-481a-48be-b90f-e4863de93ae4",
    "scrolled": true
   },
   "outputs": [
    {
     "name": "stdout",
     "output_type": "stream",
     "text": [
      "Neuronas 1 : 0.875\n",
      "Neuronas 2 : 0.8916666666666667\n",
      "Neuronas 3 : 0.8833333333333333\n",
      "Neuronas 4 : 0.8833333333333333\n",
      "Neuronas 5 : 0.8916666666666667\n",
      "Neuronas 6 : 0.8916666666666667\n",
      "Neuronas 7 : 0.8916666666666667\n",
      "Neuronas 8 : 0.8916666666666667\n",
      "Neuronas 9 : 0.8916666666666667\n",
      "Neuronas 10 : 0.8916666666666667\n"
     ]
    }
   ],
   "source": [
    "accuracies_cnn = compute_accuracies(pred_res_cnn, y_test.argmax(axis=1) + 1)\n",
    "\n",
    "for i in range(0,10):\n",
    "  print('Neuronas', i+1, ':', accuracies_cnn[i][1])"
   ]
  },
  {
   "cell_type": "markdown",
   "id": "n016DjjaDZqq",
   "metadata": {
    "id": "n016DjjaDZqq"
   },
   "source": [
    "Desde el principio la tasa de acierto es superior al anterior usando PCA, sacando casi 0.1 de acierto respecto al mejor modelo anterior.\n",
    "\n",
    "Para el ultimo apartado utilizaremos el modelo de 10 neuronas con un acierto de 0.89 ya que a simple vista parece que rinde un poco peor pero como he comentado antes esto puede ser debido al rendimiento de la CPU, y al haber ejecutado varias veces se puede observar que llega a dicha tasa regularmente."
   ]
  },
  {
   "cell_type": "markdown",
   "id": "31b18122",
   "metadata": {
    "id": "31b18122"
   },
   "source": [
    "APARTADO D"
   ]
  },
  {
   "cell_type": "code",
   "execution_count": 15,
   "id": "37332f45",
   "metadata": {
    "colab": {
     "base_uri": "https://localhost:8080/"
    },
    "id": "37332f45",
    "outputId": "c95cb7fe-f9b6-4770-97b0-89622c971306"
   },
   "outputs": [
    {
     "name": "stdout",
     "output_type": "stream",
     "text": [
      "Model: \"10_componentes_100_neuronas\"\n",
      "_________________________________________________________________\n",
      " Layer (type)                Output Shape              Param #   \n",
      "=================================================================\n",
      " Dense_1 (Dense)             (None, 100)               1100      \n",
      "                                                                 \n",
      " Dense_2 (Dense)             (None, 40)                4040      \n",
      "                                                                 \n",
      "=================================================================\n",
      "Total params: 5140 (20.08 KB)\n",
      "Trainable params: 5140 (20.08 KB)\n",
      "Non-trainable params: 0 (0.00 Byte)\n",
      "_________________________________________________________________\n"
     ]
    }
   ],
   "source": [
    "model_10_100.summary()"
   ]
  },
  {
   "cell_type": "code",
   "execution_count": 16,
   "id": "22d4fed0",
   "metadata": {
    "colab": {
     "base_uri": "https://localhost:8080/"
    },
    "id": "22d4fed0",
    "outputId": "6cfbe72b-26c4-43c5-ee61-3b0d9f82af51"
   },
   "outputs": [
    {
     "name": "stdout",
     "output_type": "stream",
     "text": [
      "Model: \"20_componentes_100_neuronas\"\n",
      "_________________________________________________________________\n",
      " Layer (type)                Output Shape              Param #   \n",
      "=================================================================\n",
      " Dense_1 (Dense)             (None, 100)               2100      \n",
      "                                                                 \n",
      " Dense_2 (Dense)             (None, 40)                4040      \n",
      "                                                                 \n",
      "=================================================================\n",
      "Total params: 6140 (23.98 KB)\n",
      "Trainable params: 6140 (23.98 KB)\n",
      "Non-trainable params: 0 (0.00 Byte)\n",
      "_________________________________________________________________\n"
     ]
    }
   ],
   "source": [
    "model_20_100.summary()"
   ]
  },
  {
   "cell_type": "code",
   "execution_count": 17,
   "id": "867fcbcd",
   "metadata": {
    "colab": {
     "base_uri": "https://localhost:8080/"
    },
    "id": "867fcbcd",
    "outputId": "b4873ef7-cab9-4881-d735-a552da742f76"
   },
   "outputs": [
    {
     "name": "stdout",
     "output_type": "stream",
     "text": [
      "Model: \"Capas_convolucionales\"\n",
      "_________________________________________________________________\n",
      " Layer (type)                Output Shape              Param #   \n",
      "=================================================================\n",
      " Conv2D (Conv2D)             (None, 62, 62, 10)        100       \n",
      "                                                                 \n",
      " Flatten (Flatten)           (None, 38440)             0         \n",
      "                                                                 \n",
      " dense_1 (Dense)             (None, 40)                1537640   \n",
      "                                                                 \n",
      "=================================================================\n",
      "Total params: 1537740 (5.87 MB)\n",
      "Trainable params: 1537740 (5.87 MB)\n",
      "Non-trainable params: 0 (0.00 Byte)\n",
      "_________________________________________________________________\n"
     ]
    }
   ],
   "source": [
    "model_cnn.summary()"
   ]
  },
  {
   "cell_type": "code",
   "execution_count": 18,
   "id": "8c45776a",
   "metadata": {
    "colab": {
     "base_uri": "https://localhost:8080/"
    },
    "id": "8c45776a",
    "outputId": "f5b964c2-20cb-45f8-9dff-0ea4b4f415a9",
    "scrolled": true
   },
   "outputs": [
    {
     "name": "stdout",
     "output_type": "stream",
     "text": [
      "Model: \"red MLP\"\n",
      "_________________________________________________________________\n",
      " Layer (type)                Output Shape              Param #   \n",
      "=================================================================\n",
      " dense_1 (Dense)             (None, 64, 100)           6500      \n",
      "                                                                 \n",
      " dense_2 (Dense)             (None, 64, 40)            4040      \n",
      "                                                                 \n",
      "=================================================================\n",
      "Total params: 10540 (41.17 KB)\n",
      "Trainable params: 10540 (41.17 KB)\n",
      "Non-trainable params: 0 (0.00 Byte)\n",
      "_________________________________________________________________\n"
     ]
    }
   ],
   "source": [
    "model = keras.Sequential(name='red MLP')\n",
    "model.add(keras.Input(shape=(64,64)))\n",
    "model.add(keras.layers.Dense(units=100, activation=\"relu\", name='dense_1'))\n",
    "model.add(keras.layers.Dense(40, activation=\"softmax\", name='dense_2'))\n",
    "\n",
    "model.summary()"
   ]
  },
  {
   "cell_type": "markdown",
   "id": "be100ff7",
   "metadata": {
    "id": "be100ff7"
   },
   "source": [
    "Como podemons observar disponemos de 4 modelos, el primero tenia un rendimiento maximo de 0.73 mientras el segundo siendo un PCA de 20 componentes su maximo rendimiento era de 0.8, en cambio el modelo utilizado en el apartado C llegaba casi a los 0.9.\n",
    "\n",
    "En cambio podemos observar un claro aumento de la cantidad de parametro a entrenar, siendo 6140 parametros en el mejor modelo del apartado B debido a la reducción de tamaño del PCA y 1537740 parametros en el apartado C probablemante debido al añadir una nueva dimensión y hacerla una matriz cuadrada.\n",
    "\n",
    "Por lo tanto a la hora de elegir que modelo es mejor deberemos pensar entre coste computacional y rendimiento (apartado B) frente a capacidad de acierto (apartado C).\n",
    "\n",
    "Respecto a la red MLP este utilizaria 10540 parametros respecto a los 6140 del segundo modelo debido a que no ha habido reducción habiendo 6500 parametros en la primera capa en comparación a 2100 parametros, siendo importante el uso de componentes PCA para computar el modelo. "
   ]
  }
 ],
 "metadata": {
  "accelerator": "GPU",
  "colab": {
   "gpuType": "T4",
   "provenance": []
  },
  "kernelspec": {
   "display_name": "Python 3 (ipykernel)",
   "language": "python",
   "name": "python3"
  },
  "language_info": {
   "codemirror_mode": {
    "name": "ipython",
    "version": 3
   },
   "file_extension": ".py",
   "mimetype": "text/x-python",
   "name": "python",
   "nbconvert_exporter": "python",
   "pygments_lexer": "ipython3",
   "version": "3.11.5"
  }
 },
 "nbformat": 4,
 "nbformat_minor": 5
}
